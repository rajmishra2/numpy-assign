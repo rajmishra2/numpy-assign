{
 "cells": [
  {
   "cell_type": "code",
   "execution_count": 1,
   "id": "1d00921c-e69f-42ae-b892-9976dfbf0674",
   "metadata": {},
   "outputs": [],
   "source": [
    "import numpy as np"
   ]
  },
  {
   "cell_type": "code",
   "execution_count": 5,
   "id": "53f14089-5e65-4bb6-84a9-eac930f6d439",
   "metadata": {},
   "outputs": [],
   "source": [
    "list_ = [ '1' , '2' , '3' , '4' , '5' ]\n",
    "array_list = np.array(object = list_)"
   ]
  },
  {
   "cell_type": "markdown",
   "id": "6ad4e265-d255-4895-b914-f4f6a180d820",
   "metadata": {},
   "source": [
    "Q1. Is there any difference in the data type of variables list_ and array_list? If there is then write a code\n",
    "to print the data types of both the variables.\n",
    "\n",
    "no difference"
   ]
  },
  {
   "cell_type": "markdown",
   "id": "fbf7fe4e-4085-42f8-9fcf-7b8969ce1a68",
   "metadata": {},
   "source": [
    "Q2. Write a code to print the data type of each and every element of both the variables list_ and\n",
    "arra_list."
   ]
  },
  {
   "cell_type": "code",
   "execution_count": 6,
   "id": "01b7ac36-c8ef-41e7-8c3d-added41eddbb",
   "metadata": {},
   "outputs": [],
   "source": [
    "list = [ '1' , '2' , '3' , '4' , '5' ]"
   ]
  },
  {
   "cell_type": "code",
   "execution_count": 7,
   "id": "3c1e7de2-5f26-4c84-b01a-1e3e0698a393",
   "metadata": {},
   "outputs": [
    {
     "data": {
      "text/plain": [
       "array(['1', '2', '3', '4', '5'], dtype='<U1')"
      ]
     },
     "execution_count": 7,
     "metadata": {},
     "output_type": "execute_result"
    }
   ],
   "source": [
    "np.array(list)"
   ]
  },
  {
   "cell_type": "code",
   "execution_count": 8,
   "id": "d302f172-a7fc-44e3-ae3a-4c6236cfccee",
   "metadata": {},
   "outputs": [],
   "source": [
    "arr=np.array(list)"
   ]
  },
  {
   "cell_type": "code",
   "execution_count": 9,
   "id": "d2f108aa-11cd-43e1-a6ef-1996e7a6c39b",
   "metadata": {},
   "outputs": [
    {
     "data": {
      "text/plain": [
       "array(['1', '2', '3', '4', '5'], dtype='<U1')"
      ]
     },
     "execution_count": 9,
     "metadata": {},
     "output_type": "execute_result"
    }
   ],
   "source": [
    "arr"
   ]
  },
  {
   "cell_type": "code",
   "execution_count": 10,
   "id": "8add5302-5de5-4444-a385-709a0bba1a84",
   "metadata": {},
   "outputs": [],
   "source": [
    "#Will there be any difference in the data type of the elements present in both the variables, list_ and\n",
    "#arra_list? If so then print the data types of each and every element present in both the variables, list_\n",
    "#and arra_list.\n",
    "\n",
    "array_list = np.array(object = list_, dtype = int)\n"
   ]
  },
  {
   "cell_type": "code",
   "execution_count": 4,
   "id": "be800c58-2e37-441b-8bb9-f378c578b364",
   "metadata": {},
   "outputs": [],
   "source": [
    "import numpy as np\n",
    "num_list = [ [ 1 , 2 , 3 ] , [ 4 , 5 , 6 ] ]\n"
   ]
  },
  {
   "cell_type": "markdown",
   "id": "4d5e7f57-db36-4264-9ca1-321b39b2c314",
   "metadata": {},
   "source": [
    "Q4. Write a code to find the following characteristics of variable, num_array:\n",
    "(i) shape\n",
    "(ii) size"
   ]
  },
  {
   "cell_type": "code",
   "execution_count": 6,
   "id": "9eaf19b8-237f-44d8-a22e-1647ccaf1687",
   "metadata": {},
   "outputs": [],
   "source": [
    "arr=np.array(num_list)"
   ]
  },
  {
   "cell_type": "code",
   "execution_count": 7,
   "id": "b5f514ae-39ec-43cd-9454-dc08381d90d8",
   "metadata": {},
   "outputs": [
    {
     "data": {
      "text/plain": [
       "array([[1, 2, 3],\n",
       "       [4, 5, 6]])"
      ]
     },
     "execution_count": 7,
     "metadata": {},
     "output_type": "execute_result"
    }
   ],
   "source": [
    "arr"
   ]
  },
  {
   "cell_type": "code",
   "execution_count": 11,
   "id": "9fca5bb5-44f5-4368-9c8c-d086edd93148",
   "metadata": {},
   "outputs": [
    {
     "data": {
      "text/plain": [
       "6"
      ]
     },
     "execution_count": 11,
     "metadata": {},
     "output_type": "execute_result"
    }
   ],
   "source": [
    "arr.size"
   ]
  },
  {
   "cell_type": "code",
   "execution_count": 12,
   "id": "7b46862e-2835-4a4b-a093-6555700ab361",
   "metadata": {},
   "outputs": [
    {
     "data": {
      "text/plain": [
       "(2, 3)"
      ]
     },
     "execution_count": 12,
     "metadata": {},
     "output_type": "execute_result"
    }
   ],
   "source": [
    "arr.shape"
   ]
  },
  {
   "cell_type": "markdown",
   "id": "e37d7c65-543e-4697-8fc3-56b37c9009a3",
   "metadata": {},
   "source": [
    "Q5. Write a code to create numpy array of 3*3 matrix containing zeros only, using a numpy array\n",
    "creation function.\n",
    "[Hint: The size of the array will be 9 and the shape will be (3,3).]"
   ]
  },
  {
   "cell_type": "code",
   "execution_count": 18,
   "id": "66b242c7-e9ef-4d73-bdf2-20e2975e21f3",
   "metadata": {},
   "outputs": [],
   "source": [
    "data=np.random.randint(0,1,(3,3))"
   ]
  },
  {
   "cell_type": "code",
   "execution_count": 19,
   "id": "df105476-80cb-400b-a590-a92b59dddf36",
   "metadata": {},
   "outputs": [
    {
     "data": {
      "text/plain": [
       "array([[0, 0, 0],\n",
       "       [0, 0, 0],\n",
       "       [0, 0, 0]])"
      ]
     },
     "execution_count": 19,
     "metadata": {},
     "output_type": "execute_result"
    }
   ],
   "source": [
    "data"
   ]
  },
  {
   "cell_type": "code",
   "execution_count": 20,
   "id": "944914ce-34f4-48d9-8487-748b75db0f4a",
   "metadata": {},
   "outputs": [
    {
     "data": {
      "text/plain": [
       "9"
      ]
     },
     "execution_count": 20,
     "metadata": {},
     "output_type": "execute_result"
    }
   ],
   "source": [
    "data.size"
   ]
  },
  {
   "cell_type": "markdown",
   "id": "7ade70a9-9145-4f8b-a060-8cba65b74304",
   "metadata": {},
   "source": [
    "Q6. Create an identity matrix of shape (5,5) using numpy functions?\n",
    "[Hint: An identity matrix is a matrix containing 1 diagonally and other elements will be 0.]"
   ]
  },
  {
   "cell_type": "code",
   "execution_count": 24,
   "id": "405b9e8f-8f80-4e9f-a892-e82ea9c381eb",
   "metadata": {},
   "outputs": [],
   "source": [
    "data1=np.diag([1,1,1,1,1,])"
   ]
  },
  {
   "cell_type": "code",
   "execution_count": 25,
   "id": "f32f4cc6-f1eb-4779-8dc4-ce9aa4b9ec5c",
   "metadata": {},
   "outputs": [
    {
     "data": {
      "text/plain": [
       "array([[1, 0, 0, 0, 0],\n",
       "       [0, 1, 0, 0, 0],\n",
       "       [0, 0, 1, 0, 0],\n",
       "       [0, 0, 0, 1, 0],\n",
       "       [0, 0, 0, 0, 1]])"
      ]
     },
     "execution_count": 25,
     "metadata": {},
     "output_type": "execute_result"
    }
   ],
   "source": [
    "data1"
   ]
  },
  {
   "cell_type": "code",
   "execution_count": null,
   "id": "0d0cf12e-2519-4f0e-8534-629a1a5a94b5",
   "metadata": {},
   "outputs": [],
   "source": []
  }
 ],
 "metadata": {
  "kernelspec": {
   "display_name": "Python 3 (ipykernel)",
   "language": "python",
   "name": "python3"
  },
  "language_info": {
   "codemirror_mode": {
    "name": "ipython",
    "version": 3
   },
   "file_extension": ".py",
   "mimetype": "text/x-python",
   "name": "python",
   "nbconvert_exporter": "python",
   "pygments_lexer": "ipython3",
   "version": "3.10.8"
  }
 },
 "nbformat": 4,
 "nbformat_minor": 5
}
